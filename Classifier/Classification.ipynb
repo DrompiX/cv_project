{
  "nbformat": 4,
  "nbformat_minor": 0,
  "metadata": {
    "colab": {
      "name": "Classification.ipynb",
      "provenance": [],
      "collapsed_sections": []
    },
    "kernelspec": {
      "name": "python3",
      "display_name": "Python 3"
    },
    "accelerator": "GPU"
  },
  "cells": [
    {
      "cell_type": "markdown",
      "metadata": {
        "id": "ZX_qOiIHXiTM",
        "colab_type": "text"
      },
      "source": [
        "Classifier idea and partial implementation was taken from https://github.com/akapoorx00/Fruit-Classifier-PyTorch"
      ]
    },
    {
      "cell_type": "code",
      "metadata": {
        "id": "FKB6dwXCAB3l",
        "colab_type": "code",
        "colab": {
          "base_uri": "https://localhost:8080/",
          "height": 148
        },
        "outputId": "0c579f34-ea21-4974-af42-bf0fa5022974"
      },
      "source": [
        "!git clone --recursive https://github.com/Horea94/Fruit-Images-Dataset"
      ],
      "execution_count": 3,
      "outputs": [
        {
          "output_type": "stream",
          "text": [
            "Cloning into 'Fruit-Images-Dataset'...\n",
            "remote: Enumerating objects: 377165, done.\u001b[K\n",
            "remote: Total 377165 (delta 0), reused 0 (delta 0), pack-reused 377165\u001b[K\n",
            "Receiving objects: 100% (377165/377165), 2.06 GiB | 15.49 MiB/s, done.\n",
            "Resolving deltas: 100% (1160/1160), done.\n",
            "Checking out files: 100% (82231/82231), done.\n"
          ],
          "name": "stdout"
        }
      ]
    },
    {
      "cell_type": "code",
      "metadata": {
        "id": "HUcwRXj8A79a",
        "colab_type": "code",
        "colab": {
          "base_uri": "https://localhost:8080/",
          "height": 221
        },
        "outputId": "f1523cb3-8f30-486c-b5e6-556f2270792c"
      },
      "source": [
        "import os\n",
        "\n",
        "def extract_data(fruits, fr, to):\n",
        "    print(f'Extracting fr: {fr} -> to {to}')\n",
        "    for subdir in os.listdir(fr):\n",
        "        os.makedirs(to, exist_ok=True)\n",
        "        if subdir in fruits:\n",
        "            os.system(f'cp -r {fr}/{subdir} {to}/{subdir}')\n",
        "            print(subdir)\n",
        "\n",
        "\n",
        "fruits = ['Apple', 'Banana', 'Cocos', 'Lemon', 'Orange']\n",
        "\n",
        "extract_data(fruits, 'Fruit-Images-Dataset/Training', 'data/Training')\n",
        "extract_data(fruits, 'Fruit-Images-Dataset/Test', 'data/Test')"
      ],
      "execution_count": 24,
      "outputs": [
        {
          "output_type": "stream",
          "text": [
            "Extracting fr: Fruit-Images-Dataset/Training -> to data/Training\n",
            "Apple\n",
            "Lemon\n",
            "Cocos\n",
            "Orange\n",
            "Banana\n",
            "Extracting fr: Fruit-Images-Dataset/Test -> to data/Test\n",
            "Apple\n",
            "Lemon\n",
            "Cocos\n",
            "Orange\n",
            "Banana\n"
          ],
          "name": "stdout"
        }
      ]
    },
    {
      "cell_type": "code",
      "metadata": {
        "id": "vBNMtqaE5zQr",
        "colab_type": "code",
        "colab": {}
      },
      "source": [
        "import random\n",
        "import torchvision\n",
        "import torch\n",
        "import pickle\n",
        "from torch import nn\n",
        "from torch.autograd import Variable\n",
        "import torchvision.transforms as T\n",
        "from torchvision.datasets import ImageFolder\n",
        "from torch.utils.data import DataLoader\n",
        "from sklearn.metrics import accuracy_score\n",
        "from PIL import Image"
      ],
      "execution_count": 0,
      "outputs": []
    },
    {
      "cell_type": "code",
      "metadata": {
        "id": "9O-Q8rEBAHJd",
        "colab_type": "code",
        "colab": {}
      },
      "source": [
        "transforms_train = T.Compose([T.ToTensor(),\n",
        "                              T.Normalize([0.5,0.5,0.5],[0.5,0.5,0.5])])\n",
        "image_data_train = ImageFolder(\"./data/Training\",transform=transforms_train)\n",
        "image_data_test = ImageFolder(\"./data/Test\",transform=transforms_train)\n",
        "\n",
        "random.shuffle(image_data_train.samples)\n",
        "random.shuffle(image_data_test.samples)"
      ],
      "execution_count": 0,
      "outputs": []
    },
    {
      "cell_type": "code",
      "metadata": {
        "id": "bamOcCV7ARd8",
        "colab_type": "code",
        "colab": {}
      },
      "source": [
        "classes_idx = image_data_train.class_to_idx\n",
        "id2class = dict({(v, k) for (k, v) in classes_idx.items()})\n",
        "classes = len(image_data_train.classes)\n",
        "len_train_data = len(image_data_train)\n",
        "len_test_data = len(image_data_test)"
      ],
      "execution_count": 0,
      "outputs": []
    },
    {
      "cell_type": "code",
      "metadata": {
        "id": "F9OrRVu76Ait",
        "colab_type": "code",
        "colab": {}
      },
      "source": [
        "train_loader = DataLoader(dataset=image_data_train, batch_size=32, shuffle=True)\n",
        "test_loader = DataLoader(dataset=image_data_test, batch_size=32, shuffle=True)"
      ],
      "execution_count": 0,
      "outputs": []
    },
    {
      "cell_type": "code",
      "metadata": {
        "id": "errzmtYF6GzC",
        "colab_type": "code",
        "colab": {}
      },
      "source": [
        "model = nn.Sequential(\n",
        "    nn.Conv2d(3, 64, kernel_size=5, stride=1), \n",
        "    nn.ReLU(),\n",
        "    nn.MaxPool2d(2), \n",
        "    nn.Conv2d(64, 64, kernel_size=7, stride=1),\n",
        "    nn.ReLU(),\n",
        "    nn.MaxPool2d(3),\n",
        "    nn.Conv2d(64, 64, kernel_size=7),\n",
        "    nn.ReLU(),\n",
        "    nn.MaxPool2d(5),\n",
        "    nn.Flatten(),\n",
        "    nn.Linear(64, 100),\n",
        "    nn.ReLU(),\n",
        "    nn.Linear(100, classes)\n",
        ")"
      ],
      "execution_count": 0,
      "outputs": []
    },
    {
      "cell_type": "code",
      "metadata": {
        "id": "8M62qKXD6Y3u",
        "colab_type": "code",
        "colab": {
          "base_uri": "https://localhost:8080/",
          "height": 34
        },
        "outputId": "2460731f-f4a8-417f-cec1-a794904b1b50"
      },
      "source": [
        "device = torch.device(\"cuda\")\n",
        "model = model.to(device)\n",
        "optimizer = torch.optim.Adagrad(model.parameters(), lr=0.01)\n",
        "criterion = nn.CrossEntropyLoss()\n",
        "torch.cuda.is_available()"
      ],
      "execution_count": 30,
      "outputs": [
        {
          "output_type": "execute_result",
          "data": {
            "text/plain": [
              "True"
            ]
          },
          "metadata": {
            "tags": []
          },
          "execution_count": 30
        }
      ]
    },
    {
      "cell_type": "code",
      "metadata": {
        "id": "zQ522MmoAlEb",
        "colab_type": "code",
        "colab": {}
      },
      "source": [
        "# Train the model\n",
        "def train(epochs):\n",
        "    model.train()\n",
        "    losses = []\n",
        "    for epoch in range(1, epochs+1):\n",
        "        print (\"epoch #\", epoch)\n",
        "        current_loss = 0.0\n",
        "        for feature, label in train_loader:\n",
        "            x = Variable(feature.to(device), requires_grad=False).float()\n",
        "            x = x.to(device)\n",
        "            y = Variable(label.to(device), requires_grad=False).long()\n",
        "            y = y.to(device)\n",
        "            optimizer.zero_grad() \n",
        "            y_pred = model(x) \n",
        "            correct = y_pred.max(1)[1].eq(y).sum()\n",
        "            loss = criterion(y_pred, y) \n",
        "            print (\"loss: \", loss.item())\n",
        "            current_loss+=loss.item()\n",
        "            loss.backward() \n",
        "            optimizer.step() \n",
        "        losses.append(current_loss) \n",
        "    return losses"
      ],
      "execution_count": 0,
      "outputs": []
    },
    {
      "cell_type": "code",
      "metadata": {
        "id": "Et_f9mk16gWT",
        "colab_type": "code",
        "colab": {}
      },
      "source": [
        "train(100)"
      ],
      "execution_count": 0,
      "outputs": []
    },
    {
      "cell_type": "code",
      "metadata": {
        "id": "fm7w3MJXOz7r",
        "colab_type": "code",
        "colab": {
          "base_uri": "https://localhost:8080/",
          "height": 272
        },
        "outputId": "1e8c1489-6a84-461f-94ae-f315519b6e7b"
      },
      "source": [
        "model"
      ],
      "execution_count": 32,
      "outputs": [
        {
          "output_type": "execute_result",
          "data": {
            "text/plain": [
              "Sequential(\n",
              "  (0): Conv2d(3, 64, kernel_size=(5, 5), stride=(1, 1))\n",
              "  (1): ReLU()\n",
              "  (2): MaxPool2d(kernel_size=2, stride=2, padding=0, dilation=1, ceil_mode=False)\n",
              "  (3): Conv2d(64, 64, kernel_size=(7, 7), stride=(1, 1))\n",
              "  (4): ReLU()\n",
              "  (5): MaxPool2d(kernel_size=3, stride=3, padding=0, dilation=1, ceil_mode=False)\n",
              "  (6): Conv2d(64, 64, kernel_size=(7, 7), stride=(1, 1))\n",
              "  (7): ReLU()\n",
              "  (8): MaxPool2d(kernel_size=5, stride=5, padding=0, dilation=1, ceil_mode=False)\n",
              "  (9): Flatten()\n",
              "  (10): Linear(in_features=64, out_features=100, bias=True)\n",
              "  (11): ReLU()\n",
              "  (12): Linear(in_features=100, out_features=5, bias=True)\n",
              ")"
            ]
          },
          "metadata": {
            "tags": []
          },
          "execution_count": 32
        }
      ]
    },
    {
      "cell_type": "code",
      "metadata": {
        "id": "0PzIPyjbN4b9",
        "colab_type": "code",
        "colab": {
          "base_uri": "https://localhost:8080/",
          "height": 255
        },
        "outputId": "0dfa30f4-c111-41d9-b326-de6b7b1ab423"
      },
      "source": [
        "for b, l in train_loader:\n",
        "    t = b.to(device)\n",
        "    print(t.size())\n",
        "    print(model[0](t.to(device)).size())\n",
        "    print(model[:2](t.to(device)).size())\n",
        "    print(model[:3](t.to(device)).size())\n",
        "    print(model[:4](t.to(device)).size())\n",
        "    print(model[:5](t.to(device)).size())\n",
        "    print(model[:6](t.to(device)).size())\n",
        "    print(model[:7](t.to(device)).size())\n",
        "    print(model[:8](t.to(device)).size())\n",
        "    print(model[:9](t.to(device)).size())\n",
        "    print(model[:10](t.to(device)).size())\n",
        "    print(model[:11](t.to(device)).size())\n",
        "    print(model[:12](t.to(device)).size())\n",
        "    print(model[:13](t.to(device)).size())\n",
        "    break"
      ],
      "execution_count": 33,
      "outputs": [
        {
          "output_type": "stream",
          "text": [
            "torch.Size([32, 3, 100, 100])\n",
            "torch.Size([32, 64, 96, 96])\n",
            "torch.Size([32, 64, 96, 96])\n",
            "torch.Size([32, 64, 48, 48])\n",
            "torch.Size([32, 64, 42, 42])\n",
            "torch.Size([32, 64, 42, 42])\n",
            "torch.Size([32, 64, 14, 14])\n",
            "torch.Size([32, 64, 8, 8])\n",
            "torch.Size([32, 64, 8, 8])\n",
            "torch.Size([32, 64, 1, 1])\n",
            "torch.Size([32, 64])\n",
            "torch.Size([32, 100])\n",
            "torch.Size([32, 100])\n",
            "torch.Size([32, 5])\n"
          ],
          "name": "stdout"
        }
      ]
    },
    {
      "cell_type": "code",
      "metadata": {
        "id": "yjpFT14QMCfu",
        "colab_type": "code",
        "colab": {
          "base_uri": "https://localhost:8080/",
          "height": 34
        },
        "outputId": "9b2ab947-1b95-407c-ba3a-85009bd75906"
      },
      "source": [
        "classes_idx"
      ],
      "execution_count": 19,
      "outputs": [
        {
          "output_type": "execute_result",
          "data": {
            "text/plain": [
              "{'Apple': 0, 'Banana': 1, 'Cocos': 2, 'Lemon': 3, 'Orange': 4}"
            ]
          },
          "metadata": {
            "tags": []
          },
          "execution_count": 19
        }
      ]
    },
    {
      "cell_type": "code",
      "metadata": {
        "id": "6W5bRCIEM8jN",
        "colab_type": "code",
        "colab": {}
      },
      "source": [
        "with open('id2class.pkl', 'wb') as f:\n",
        "    pickle.dump(id2class, f)"
      ],
      "execution_count": 0,
      "outputs": []
    },
    {
      "cell_type": "code",
      "metadata": {
        "id": "Gs6SjMePNcMz",
        "colab_type": "code",
        "colab": {}
      },
      "source": [
        "state_dict = model.state_dict()\n",
        "for key in state_dict.keys():\n",
        "    state_dict[key] = state_dict[key].to(torch.device('cpu'))\n",
        "\n",
        "torch.save(state_dict, 'fruit_classifier.pth')"
      ],
      "execution_count": 0,
      "outputs": []
    },
    {
      "cell_type": "code",
      "metadata": {
        "id": "PDVm0IAw52Yz",
        "colab_type": "code",
        "colab": {}
      },
      "source": [
        "class FruitClassifier(nn.Module):\n",
        "\n",
        "    def __init__(self, classes, id2class):\n",
        "        super(FruitClassifier, self).__init__()\n",
        "        self.model = nn.Sequential(\n",
        "            nn.Conv2d(3, 64, kernel_size=5, stride=1), \n",
        "            nn.ReLU(),\n",
        "            nn.MaxPool2d(2), \n",
        "            nn.Conv2d(64, 64, kernel_size=7, stride=1),\n",
        "            nn.ReLU(),\n",
        "            nn.MaxPool2d(3),\n",
        "            nn.Conv2d(64, 64, kernel_size=7),\n",
        "            nn.ReLU(),\n",
        "            nn.MaxPool2d(5),\n",
        "            nn.Flatten(),\n",
        "            nn.Linear(64, 100),\n",
        "            nn.ReLU(),\n",
        "            nn.Linear(100, classes)\n",
        "        )\n",
        "        self.id2class = id2class\n",
        "    \n",
        "    def forward(self, x):\n",
        "        return self.model(x)\n",
        "\n",
        "    def load_weights(self, path):\n",
        "        self.model.load_state_dict(torch.load(path))\n",
        "\n",
        "    def predict(self, x):\n",
        "        return self.id2class[self.model(x).max(1)[1].cpu().item()]\n",
        "\n",
        "\n",
        "def load_image(filename, device='cpu'):\n",
        "    transform = T.Compose([T.ToTensor(), \n",
        "                           T.Normalize([0.5,0.5,0.5], [0.5,0.5,0.5])])\n",
        "    img = Image.open(filename)\n",
        "    img_t = transform(img)\n",
        "    return img_t.unsqueeze(0).to(device)"
      ],
      "execution_count": 0,
      "outputs": []
    },
    {
      "cell_type": "code",
      "metadata": {
        "id": "x8zmtkKj6X9Y",
        "colab_type": "code",
        "colab": {}
      },
      "source": [
        "with open('id2class.pkl', 'rb') as fd:\n",
        "    id2class = pickle.load(fd)\n",
        "\n",
        "clf = FruitClassifier(5, id2class)\n",
        "clf.load_weights('fruit_classifier.pth')"
      ],
      "execution_count": 0,
      "outputs": []
    }
  ]
}